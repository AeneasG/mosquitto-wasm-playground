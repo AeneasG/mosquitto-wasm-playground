{
 "cells": [
  {
   "cell_type": "code",
   "execution_count": 1,
   "metadata": {},
   "outputs": [],
   "source": [
    "import pandas as pd"
   ]
  },
  {
   "cell_type": "code",
   "execution_count": 3,
   "metadata": {},
   "outputs": [],
   "source": [
    "exports_to_analyze = ['grassen-1-16kb-fine-granular']\n",
    "all_df = pd.DataFrame()\n",
    "\n",
    "# Load the data\n",
    "for export in exports_to_analyze:\n",
    "    filename = 'export/' + export + '/latency_per_publishers.csv'\n",
    "    df = pd.read_csv(filename, sep=',', index_col=0)\n",
    "    all_df = pd.concat([all_df, df])"
   ]
  },
  {
   "cell_type": "code",
   "execution_count": 3,
   "metadata": {},
   "outputs": [
    {
     "data": {
      "text/html": [
       "<div>\n",
       "<style scoped>\n",
       "    .dataframe tbody tr th:only-of-type {\n",
       "        vertical-align: middle;\n",
       "    }\n",
       "\n",
       "    .dataframe tbody tr th {\n",
       "        vertical-align: top;\n",
       "    }\n",
       "\n",
       "    .dataframe thead th {\n",
       "        text-align: right;\n",
       "    }\n",
       "</style>\n",
       "<table border=\"1\" class=\"dataframe\">\n",
       "  <thead>\n",
       "    <tr style=\"text-align: right;\">\n",
       "      <th></th>\n",
       "      <th>nb_publishers</th>\n",
       "      <th>latency</th>\n",
       "      <th>overhead_against_native</th>\n",
       "      <th>overhead_against_wasm</th>\n",
       "    </tr>\n",
       "    <tr>\n",
       "      <th>case</th>\n",
       "      <th></th>\n",
       "      <th></th>\n",
       "      <th></th>\n",
       "      <th></th>\n",
       "    </tr>\n",
       "  </thead>\n",
       "  <tbody>\n",
       "    <tr>\n",
       "      <th>native-tls</th>\n",
       "      <td>15.0</td>\n",
       "      <td>15.942191</td>\n",
       "      <td>1.00</td>\n",
       "      <td>0.74</td>\n",
       "    </tr>\n",
       "    <tr>\n",
       "      <th>sgx-tls</th>\n",
       "      <td>15.0</td>\n",
       "      <td>25.548639</td>\n",
       "      <td>1.60</td>\n",
       "      <td>1.19</td>\n",
       "    </tr>\n",
       "    <tr>\n",
       "      <th>wasm-tls</th>\n",
       "      <td>15.0</td>\n",
       "      <td>21.510833</td>\n",
       "      <td>1.35</td>\n",
       "      <td>1.00</td>\n",
       "    </tr>\n",
       "  </tbody>\n",
       "</table>\n",
       "</div>"
      ],
      "text/plain": [
       "            nb_publishers    latency  overhead_against_native  \\\n",
       "case                                                            \n",
       "native-tls           15.0  15.942191                     1.00   \n",
       "sgx-tls              15.0  25.548639                     1.60   \n",
       "wasm-tls             15.0  21.510833                     1.35   \n",
       "\n",
       "            overhead_against_wasm  \n",
       "case                               \n",
       "native-tls                   0.74  \n",
       "sgx-tls                      1.19  \n",
       "wasm-tls                     1.00  "
      ]
     },
     "execution_count": 3,
     "metadata": {},
     "output_type": "execute_result"
    }
   ],
   "source": [
    "threshold = 25\n",
    "\n",
    "# Filter out the data\n",
    "all_df = all_df[all_df['nb_publishers'] <= threshold]\n",
    "\n",
    "df = all_df.groupby('case').mean()\n",
    "# calculate the overhead against native\n",
    "df['overhead_against_native'] = (df['latency']) / df.loc['native-tls', 'latency']\n",
    "df['overhead_against_wasm'] = (df['latency']) / df.loc['wasm-tls', 'latency']\n",
    "\n",
    "# round the overhead values to 2 digits\n",
    "df['overhead_against_native'] = df['overhead_against_native'].round(2)\n",
    "df['overhead_against_wasm'] = df['overhead_against_wasm'].round(2)\n",
    "df"
   ]
  },
  {
   "cell_type": "code",
   "execution_count": 4,
   "metadata": {},
   "outputs": [
    {
     "name": "stderr",
     "output_type": "stream",
     "text": [
      "/home/ubuntu/.local/lib/python3.6/site-packages/numpy/lib/arraysetops.py:580: FutureWarning: elementwise comparison failed; returning scalar instead, but in the future will perform elementwise comparison\n",
      "  mask |= (ar1 == a)\n"
     ]
    },
    {
     "name": "stdout",
     "output_type": "stream",
     "text": [
      "   latency  nb_publishers        case\n",
      "0      3.0            5.0  native-tls\n",
      "1      4.0            5.0  native-tls\n",
      "2      4.0            5.0  native-tls\n",
      "3      5.0            5.0  native-tls\n",
      "4      5.0            5.0  native-tls\n"
     ]
    }
   ],
   "source": [
    "message_df = pd.read_csv('export/' + exports_to_analyze[0] + '/message_latency.csv', sep=',', index_col=0)\n",
    "# get unique values for 'case' column\n",
    "cases = ['native-tls', 'wasm-tls', 'sgx-tls']\n",
    "message_df = message_df.drop(columns=['timestamp_receive', 'timestamp_send'])\n",
    "# get unique values for 'nb_publishers' column\n",
    "nb_publishers = message_df['nb_publishers'].unique()\n",
    "\n",
    "print(message_df.head())\n",
    "\n",
    "for nb_publisher in nb_publishers:\n",
    "    export_df = pd.DataFrame()\n",
    "    for case in cases:\n",
    "        df = message_df[(message_df['case'] == case) & (message_df['nb_publishers'] == nb_publisher)]\n",
    "        df = df.rename(columns={'latency': case})\n",
    "        df = df.drop(columns=['case', 'nb_publishers'])\n",
    "        export_df = pd.concat([export_df, df], axis=1)\n",
    "    export_df = export_df.transpose()\n",
    "    export_df.to_csv('export/' + exports_to_analyze[0] + '/message_latency_' + str(nb_publisher) + '.csv')\n"
   ]
  },
  {
   "cell_type": "code",
   "execution_count": null,
   "metadata": {},
   "outputs": [],
   "source": []
  }
 ],
 "metadata": {
  "kernelspec": {
   "display_name": "Python 3",
   "language": "python",
   "name": "python3"
  },
  "language_info": {
   "codemirror_mode": {
    "name": "ipython",
    "version": 3
   },
   "file_extension": ".py",
   "mimetype": "text/x-python",
   "name": "python",
   "nbconvert_exporter": "python",
   "pygments_lexer": "ipython3",
   "version": "3.6.9"
  }
 },
 "nbformat": 4,
 "nbformat_minor": 4
}
