{
 "cells": [
  {
   "cell_type": "code",
   "execution_count": 1,
   "metadata": {},
   "outputs": [],
   "source": [
    "import pandas as pd"
   ]
  },
  {
   "cell_type": "code",
   "execution_count": 2,
   "metadata": {},
   "outputs": [],
   "source": [
    "exports_to_analyze = ['grassen-1', 'grassen-1-psk', 'grassen-1-ra']\n",
    "all_df = pd.DataFrame()\n",
    "\n",
    "# Load the data\n",
    "for export in exports_to_analyze:\n",
    "    filename = 'export/' + export + '/latency_per_conn_s.csv'\n",
    "    df = pd.read_csv(filename, sep=',', index_col=0)\n",
    "    all_df = pd.concat([all_df, df])"
   ]
  },
  {
   "cell_type": "code",
   "execution_count": 3,
   "metadata": {},
   "outputs": [
    {
     "data": {
      "text/html": [
       "<div>\n",
       "<style scoped>\n",
       "    .dataframe tbody tr th:only-of-type {\n",
       "        vertical-align: middle;\n",
       "    }\n",
       "\n",
       "    .dataframe tbody tr th {\n",
       "        vertical-align: top;\n",
       "    }\n",
       "\n",
       "    .dataframe thead th {\n",
       "        text-align: right;\n",
       "    }\n",
       "</style>\n",
       "<table border=\"1\" class=\"dataframe\">\n",
       "  <thead>\n",
       "    <tr style=\"text-align: right;\">\n",
       "      <th></th>\n",
       "      <th>conn_s</th>\n",
       "      <th>latency</th>\n",
       "      <th>overhead_against_native</th>\n",
       "      <th>overhead_against_wasm</th>\n",
       "    </tr>\n",
       "    <tr>\n",
       "      <th>case</th>\n",
       "      <th></th>\n",
       "      <th></th>\n",
       "      <th></th>\n",
       "      <th></th>\n",
       "    </tr>\n",
       "  </thead>\n",
       "  <tbody>\n",
       "    <tr>\n",
       "      <th>native-tls</th>\n",
       "      <td>20.111111</td>\n",
       "      <td>111.457709</td>\n",
       "      <td>1.00</td>\n",
       "      <td>0.53</td>\n",
       "    </tr>\n",
       "    <tr>\n",
       "      <th>sgx-tls</th>\n",
       "      <td>20.111111</td>\n",
       "      <td>369.938267</td>\n",
       "      <td>3.32</td>\n",
       "      <td>1.75</td>\n",
       "    </tr>\n",
       "    <tr>\n",
       "      <th>sgx-tls-ra</th>\n",
       "      <td>10.200000</td>\n",
       "      <td>955.829778</td>\n",
       "      <td>8.58</td>\n",
       "      <td>4.52</td>\n",
       "    </tr>\n",
       "    <tr>\n",
       "      <th>sgx-tls-ra-psk</th>\n",
       "      <td>15.142857</td>\n",
       "      <td>672.932881</td>\n",
       "      <td>6.04</td>\n",
       "      <td>3.18</td>\n",
       "    </tr>\n",
       "    <tr>\n",
       "      <th>wasm-tls</th>\n",
       "      <td>20.111111</td>\n",
       "      <td>211.450455</td>\n",
       "      <td>1.90</td>\n",
       "      <td>1.00</td>\n",
       "    </tr>\n",
       "  </tbody>\n",
       "</table>\n",
       "</div>"
      ],
      "text/plain": [
       "                   conn_s     latency  overhead_against_native  \\\n",
       "case                                                             \n",
       "native-tls      20.111111  111.457709                     1.00   \n",
       "sgx-tls         20.111111  369.938267                     3.32   \n",
       "sgx-tls-ra      10.200000  955.829778                     8.58   \n",
       "sgx-tls-ra-psk  15.142857  672.932881                     6.04   \n",
       "wasm-tls        20.111111  211.450455                     1.90   \n",
       "\n",
       "                overhead_against_wasm  \n",
       "case                                   \n",
       "native-tls                       0.53  \n",
       "sgx-tls                          1.75  \n",
       "sgx-tls-ra                       4.52  \n",
       "sgx-tls-ra-psk                   3.18  \n",
       "wasm-tls                         1.00  "
      ]
     },
     "execution_count": 3,
     "metadata": {},
     "output_type": "execute_result"
    }
   ],
   "source": [
    "threshold = 40\n",
    "\n",
    "# Filter out the data\n",
    "all_df = all_df[all_df['conn_s'] <= threshold]\n",
    "\n",
    "df = all_df.groupby('case').mean()\n",
    "# calculate the overhead against native\n",
    "df['overhead_against_native'] = (df['latency']) / df.loc['native-tls', 'latency']\n",
    "df['overhead_against_wasm'] = (df['latency']) / df.loc['wasm-tls', 'latency']\n",
    "\n",
    "# round the overhead values to 2 digits\n",
    "df['overhead_against_native'] = df['overhead_against_native'].round(2)\n",
    "df['overhead_against_wasm'] = df['overhead_against_wasm'].round(2)\n",
    "df"
   ]
  }
 ],
 "metadata": {
  "kernelspec": {
   "display_name": "Python 3",
   "language": "python",
   "name": "python3"
  },
  "language_info": {
   "codemirror_mode": {
    "name": "ipython",
    "version": 3
   },
   "file_extension": ".py",
   "mimetype": "text/x-python",
   "name": "python",
   "nbconvert_exporter": "python",
   "pygments_lexer": "ipython3",
   "version": "3.6.9"
  }
 },
 "nbformat": 4,
 "nbformat_minor": 4
}
