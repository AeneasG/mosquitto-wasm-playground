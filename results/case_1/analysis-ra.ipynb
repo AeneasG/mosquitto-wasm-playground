{
 "cells": [
  {
   "cell_type": "code",
   "execution_count": 1,
   "metadata": {},
   "outputs": [],
   "source": [
    "import pandas as pd\n",
    "import numpy as np\n",
    "import matplotlib.pyplot as plt\n",
    "import seaborn as sns\n",
    "import os"
   ]
  },
  {
   "cell_type": "code",
   "execution_count": 2,
   "metadata": {},
   "outputs": [],
   "source": [
    "translation_dict = {\n",
    "    'native-tls-hw-supp': 'Native TLS HW supp',\n",
    "    'native-tls': 'Native TLS no HW supp',\n",
    "    'native': 'Native (no TLS)',\n",
    "    'wasm': 'WASM (no TLS)',\n",
    "    'wasm-tls': 'WASM TLS',\n",
    "    'sgx': 'WASM SGX (no TLS)',\n",
    "    'sgx-tls': 'WASM SGX TLS',\n",
    "    'sgx-tls-psk': 'WASM SGX PSK',\n",
    "    'sgx-tls-ra': 'WASM SGX TLS Remote Attestation',\n",
    "    'sgx-tls-ra-psk': 'WASM SGX TLS Remote Attestation PSK',\n",
    "    'qos0': 'QoS 0',\n",
    "    'qos1': 'QoS 1',\n",
    "    'qos2': 'QoS 2',\n",
    "    'expected_delivered': 'Expected delivered messages / s',\n",
    "    'delivered_messages': 'Delivered messages / s',\n",
    "    'reliability': 'Delivery rate (%)',\n",
    "    'latency': 'Latency (s)',\n",
    "    'throughput': 'Throughput (Messages /s) [at min 95 % reliability]',\n",
    "    'timestamp' : 'Time [s]',\n",
    "    'messages' : 'Messages / s',\n",
    "}\n",
    "\n",
    "cases = ['sgx-tls-ra', 'sgx-tls-ra-psk']\n",
    "machine = 'grassen-1-peer-ra'"
   ]
  },
  {
   "cell_type": "code",
   "execution_count": 3,
   "metadata": {},
   "outputs": [],
   "source": [
    "connection_latency_dict = {}\n",
    "for case in cases:\n",
    "    df = pd.read_csv('data/' + machine + '/results_' + case + '/latency.csv', sep = ';', names=['timestamp','latency'], dtype = {'timestamp': np.int64, 'latency': np.float64})\n",
    "    # min_ts = df['timestamp'].min()\n",
    "    # df['timestamp'] = df['timestamp'] - min_ts\n",
    "\n",
    "    df = df.sort_values(by=['timestamp'])\n",
    "\n",
    "    first_ts = df[df['latency'] == -1]\n",
    "    if len(first_ts) > 0:\n",
    "        first_ts = first_ts['timestamp'].min()\n",
    "        df = df[df['timestamp'] < first_ts]\n",
    "    \n",
    "    # create datetimelike index based on timestamp\n",
    "    df.index = pd.to_datetime(df['timestamp'], unit='ms')\n",
    "    connection_latency_dict[case] = df\n",
    "    \n",
    "orchestrator_dict = {}\n",
    "for case in cases:\n",
    "    df = pd.read_csv('data/' + machine + '/results_' + case + '/orchestrator.csv', sep = ';')\n",
    "    orchestrator_dict[case] = df"
   ]
  },
  {
   "cell_type": "code",
   "execution_count": 4,
   "metadata": {},
   "outputs": [],
   "source": [
    "latency_per_conn_s = {}\n",
    "interesting_numbers = [1, 5, 10, 15, 20, 25, 30, 35, 40, 45, 50]\n",
    "df_latency = pd.DataFrame()\n",
    "for case in cases:\n",
    "    df = connection_latency_dict[case]\n",
    "    df['conn_s'] = 0\n",
    "\n",
    "    for idx, i in enumerate(interesting_numbers):\n",
    "        df_orch = orchestrator_dict[case]\n",
    "        \n",
    "        df_min_ts = df_orch[df_orch['payload'] == i]\n",
    "\n",
    "        if not df_min_ts.empty:\n",
    "            min_ts = df_min_ts['timestamp'].iloc[0]\n",
    "\n",
    "            if((idx + 1) < len(interesting_numbers)):\n",
    "                df_max_ts = df_orch[df_orch['payload'] == interesting_numbers[idx + 1]]\n",
    "            else:\n",
    "                df_max_ts = df_orch[df_orch['payload'] == 0]\n",
    "            if df_max_ts.empty:\n",
    "                max_ts = df['timestamp'].max()\n",
    "            else:\n",
    "                max_ts = df_max_ts['timestamp'].iloc[0]\n",
    "            # how many entries would it have?\n",
    "            df_count = df.loc[(df['timestamp'] >= min_ts) & (df['timestamp'] < max_ts)]\n",
    "            if(len(df_count) >= 10 and len(df_count) > 5*i):\n",
    "                df.loc[(df['timestamp'] >= min_ts) & (df['timestamp'] < max_ts), 'conn_s'] = i\n",
    "\n",
    "    df = df[df['conn_s'].isin(interesting_numbers)]\n",
    "    df = df.drop(columns=['timestamp'])\n",
    "    df_g = df.groupby('conn_s').mean()\n",
    "    df_g = df_g.reset_index()  \n",
    "\n",
    "    latency_per_conn_s[case] = df_g\n",
    "\n",
    "    df['case'] = case\n",
    "    df_latency = pd.concat([df_latency, df])\n"
   ]
  },
  {
   "cell_type": "code",
   "execution_count": 5,
   "metadata": {},
   "outputs": [],
   "source": [
    "latency_per_conn_s_df = pd.DataFrame()\n",
    "for case in cases:\n",
    "    df = latency_per_conn_s[case]\n",
    "    df['case'] = case\n",
    "    latency_per_conn_s_df = pd.concat([latency_per_conn_s_df, df])\n",
    "\n",
    "# if directory export does not exist, create it\n",
    "if not os.path.exists('export'):\n",
    "    os.makedirs('export')\n",
    "if not os.path.exists('export/' + machine):\n",
    "    os.makedirs('export/' + machine)\n",
    "latency_per_conn_s_df.to_csv('export/' + machine + '/latency_per_conn_s.csv')\n",
    "\n",
    "# write a description file for the export\n",
    "# open file \"latency_per_conn_s_description.txt\" in \"write\" mode\n",
    "f = open('export/' + machine + '/latency_per_conn_s_description.txt', 'w')\n",
    "f.write('This file contains the average latency of a connection given the number of connections / s in milliseconds.\\n')\n",
    "f.write('The first column is a index without any further meaning\\n')\n",
    "f.write('the other columns are as described below:\\n\\n')\n",
    "for col in latency_per_conn_s_df.columns:\n",
    "    if(col == 'case'):\n",
    "        f.write(col + ': case of the measurement\\n')\n",
    "    if(col == 'latency'):\n",
    "        f.write(col + ': average latency of a connection given the number of connections / s in milliseconds\\n')\n",
    "    if(col == 'conn_s'):\n",
    "        f.write(col + ': the number of new connections per second\\n')\n",
    "\n",
    "f.write('\\n\\n')\n",
    "f.write('The following cases were measured:\\n')\n",
    "for case in cases:\n",
    "    f.write(case + ': ' + translation_dict[case] +'\\n')\n",
    "\n",
    "f.close()"
   ]
  },
  {
   "cell_type": "code",
   "execution_count": 6,
   "metadata": {},
   "outputs": [
    {
     "data": {
      "image/png": "[encoded data removed]",
      "text/plain": [
       "<Figure size 432x288 with 1 Axes>"
      ]
     },
     "metadata": {
      "needs_background": "light"
     },
     "output_type": "display_data"
    }
   ],
   "source": [
    "df = latency_per_conn_s_df.rename(columns={'latency': 'Latency (ms)', 'conn_s': 'new connections / s'})\n",
    "df = df[df['new connections / s'] <= 15]\n",
    "sns.barplot(data=df, x='new connections / s', y='Latency (ms)', hue='case')\n",
    "plt.title('Average latency per connection depending on the number of connections / s\\n['+ machine + ']')\n",
    "plt.xlabel('new connections / s')\n",
    "plt.ylabel('Latency (ms)')\n",
    "\n",
    "plt.savefig('export/' + machine + '/latency_per_conn_s.png', dpi=300, bbox_inches='tight', transparent = False)"
   ]
  },
  {
   "cell_type": "code",
   "execution_count": 7,
   "metadata": {},
   "outputs": [
    {
     "data": {
      "image/png": "[encoded data removed]",
      "text/plain": [
       "<Figure size 432x288 with 1 Axes>"
      ]
     },
     "metadata": {
      "needs_background": "light"
     },
     "output_type": "display_data"
    }
   ],
   "source": [
    "df = df_latency[df_latency['conn_s'] <= 20]\n",
    "sns.boxplot(data=df, x='conn_s', y='latency', hue='case')\n",
    "plt.title('Connection latency per connection depending on the number of connections / s\\n['+ machine + ']')\n",
    "plt.xlabel('new connections / s')\n",
    "plt.ylabel('Latency (ms)')\n",
    "\n",
    "\n",
    "plt.savefig('export/' + machine + '/latency_per_conn_s_whisker.png', dpi=300, bbox_inches='tight', transparent = False)"
   ]
  }
 ],
 "metadata": {
  "kernelspec": {
   "display_name": "Python 3",
   "language": "python",
   "name": "python3"
  },
  "language_info": {
   "codemirror_mode": {
    "name": "ipython",
    "version": 3
   },
   "file_extension": ".py",
   "mimetype": "text/x-python",
   "name": "python",
   "nbconvert_exporter": "python",
   "pygments_lexer": "ipython3",
   "version": "3.6.9"
  },
  "orig_nbformat": 4
 },
 "nbformat": 4,
 "nbformat_minor": 2
}
