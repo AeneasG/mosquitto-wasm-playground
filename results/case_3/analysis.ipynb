{
 "cells": [
  {
   "cell_type": "code",
   "execution_count": 1,
   "metadata": {},
   "outputs": [],
   "source": [
    "import pandas as pd\n",
    "import numpy as np\n",
    "import matplotlib.pyplot as plt\n",
    "import matplotlib.ticker as ticker\n",
    "import seaborn as sns\n",
    "import os"
   ]
  },
  {
   "cell_type": "code",
   "execution_count": 2,
   "metadata": {},
   "outputs": [],
   "source": [
    "translation_dict = {\n",
    "    'native-tls-hw-supp': 'Native TLS HW supp',\n",
    "    'native-tls': 'Native TLS no HW supp',\n",
    "    'native': 'Native (no TLS)',\n",
    "    'wasm': 'WASM (no TLS)',\n",
    "    'wasm-tls': 'WASM TLS',\n",
    "    'sgx': 'WASM SGX (no TLS)',\n",
    "    'sgx-tls': 'WASM SGX TLS',\n",
    "    'qos0': 'QoS 0',\n",
    "    'qos1': 'QoS 1',\n",
    "    'qos2': 'QoS 2',\n",
    "    'expected_delivered': 'Expected delivered messages / s',\n",
    "    'delivered_messages': 'Delivered messages / s',\n",
    "    'reliability': 'Delivery rate (%)',\n",
    "    'latency': 'Latency (s)',\n",
    "    'throughput': 'Throughput (Messages /s) [at min 95 % reliability]',\n",
    "    'timestamp' : 'Time [s]',\n",
    "    'messages' : 'Messages / s',\n",
    "}\n",
    "\n",
    "cases = ['native-tls', 'native-tls-hw-supp', 'native', 'wasm', 'wasm-tls', 'sgx', 'sgx-tls']\n",
    "cases_tls = ['native-tls', 'wasm-tls', 'sgx-tls']\n",
    "cases_no_tls = ['native', 'wasm', 'sgx']\n",
    "cases_native = ['native-tls', 'native-tls-hw-supp', 'native']\n",
    "\n",
    "cases = cases_tls\n",
    "\n",
    "machine = 'grassen-1'"
   ]
  },
  {
   "cell_type": "code",
   "execution_count": 3,
   "metadata": {},
   "outputs": [
    {
     "name": "stdout",
     "output_type": "stream",
     "text": [
      "Case: native-tls\n",
      "Number of received messages: 13449\n",
      "Number of sent messages: 13450\n",
      "Number of lost messages: 1\n",
      "\n",
      "\n",
      "Case: wasm-tls\n",
      "Number of received messages: 13448\n",
      "Number of sent messages: 13449\n",
      "Number of lost messages: 1\n",
      "\n",
      "\n",
      "Case: sgx-tls\n",
      "Number of received messages: 13449\n",
      "Number of sent messages: 13450\n",
      "Number of lost messages: 1\n",
      "\n",
      "\n"
     ]
    }
   ],
   "source": [
    "number_publishers = 1\n",
    "number_subscribers = 256\n",
    "message_dict = {}\n",
    "for case in cases:\n",
    "    publisher_df = pd.DataFrame()\n",
    "    for i in range(number_publishers):\n",
    "        df = pd.read_csv('data/' + machine + '/results_' + case + '/' + str(i) + '.csv', sep = ';')\n",
    "        publisher_df = pd.concat([publisher_df, df])\n",
    "    \n",
    "    subscriber_df = pd.DataFrame()\n",
    "    for i in range(number_subscribers):\n",
    "        df = pd.read_csv('data/' + machine + '/results_' + case + '/' + str(i + number_publishers) + '.csv', sep = ';')\n",
    "        subscriber_df = pd.concat([subscriber_df, df])\n",
    "    \n",
    "    # only receive events\n",
    "    subscriber_df = subscriber_df[subscriber_df['event'] == 9]\n",
    "    subscriber_df = subscriber_df.sort_values(by=['timestamp']).rename(columns={'timestamp': 'timestamp_receive'})\n",
    "    subscriber_df = subscriber_df.drop(columns=['event'])\n",
    "    # only send events\n",
    "    publisher_df = publisher_df[publisher_df['event'] == 3]\n",
    "    publisher_df = publisher_df.sort_values(by=['timestamp']).rename(columns={'timestamp': 'timestamp_send'})\n",
    "    publisher_df = publisher_df.drop(columns=['event'])\n",
    "\n",
    "    print('Case: ' + case)\n",
    "    print('Number of received messages: ' + str(len(subscriber_df)))\n",
    "    print('Number of sent messages: ' + str(len(publisher_df)))\n",
    "    print('Number of lost messages: ' + str(len(publisher_df) - len(subscriber_df)))\n",
    "    print('\\n')\n",
    "\n",
    "    df = pd.merge(subscriber_df, publisher_df, on='payload', how='outer')\n",
    "    df = df.drop(columns=['payload'])\n",
    "\n",
    "    df['latency'] = df['timestamp_receive'] - df['timestamp_send']\n",
    "    \n",
    "    message_dict[case] = df\n"
   ]
  },
  {
   "cell_type": "code",
   "execution_count": 4,
   "metadata": {},
   "outputs": [],
   "source": [
    "# if directory export does not exist, create it\n",
    "if not os.path.exists('export'):\n",
    "    os.makedirs('export')\n",
    "if not os.path.exists('export/' + machine):\n",
    "    os.makedirs('export/' + machine)\n",
    "    \n",
    "f = open('export/' + machine + '/readme.txt', 'w')\n",
    "f.write('This folder contains the results of the case \"subscriber scaling\".\\n')\n",
    "f.write('In this case, the message rate as well as the number of publishers is fixed.\\n')\n",
    "f.write('The number of subscribers is scaled from 1 to 256 at an exponential scale (2^i).\\n')\n",
    "f.write('Every case runs for 60 seconds. Afterwards the number is increased. Note, that the broker is not restarted inbetween.\\n\\n')\n",
    "f.write('The parameters used are as follows:\\n')\n",
    "f.write('  - Message rate: 25 / s\\n')\n",
    "f.write('  - Number of publishers: ' + str(number_publishers) + '\\n')\n",
    "f.write('  - Size of Payload: 16Kb random data\\n')\n",
    "f.write('  - QoS: 0\\n')\n",
    "f.write('\\n')\n",
    "f.write('Note: The subscribers subscribe to a shared topic, i.e. every message is only received by one subscriber.\\n')\n",
    "f.close()"
   ]
  },
  {
   "cell_type": "code",
   "execution_count": 5,
   "metadata": {},
   "outputs": [],
   "source": [
    "bin_dict = {}\n",
    "for case in cases:\n",
    "    df = pd.read_csv('data/' + machine + '/results_' + case + '/orchestrator.csv', sep = ';')\n",
    "    # iterate through df\n",
    "    bins = pd.DataFrame(columns = ['bin', 'start', 'end', 'duration'])\n",
    "    for index, row in df.iterrows():\n",
    "        # add new bin\n",
    "        bins = bins.append({'bin': row['payload'], 'start': row['timestamp']}, ignore_index = True)\n",
    "\n",
    "        # check if bin is already in bins\n",
    "        if index > 0:\n",
    "            # update end time\n",
    "            bins.iloc[index-1]['end'] = row['timestamp']\n",
    "            # update duration\n",
    "            bins.iloc[index-1]['duration'] = bins.iloc[index-1]['end'] - bins.iloc[index-1]['start'] \n",
    "        \n",
    "        if index == len(df) - 1:\n",
    "            bins.iloc[index]['end'] = message_dict[case]['timestamp_receive'].max()\n",
    "            bins.iloc[index]['duration'] = bins.iloc[index]['end'] - bins.iloc[index]['start'] \n",
    "        \n",
    "    bin_dict[case] = bins"
   ]
  },
  {
   "cell_type": "code",
   "execution_count": 6,
   "metadata": {},
   "outputs": [],
   "source": [
    "# assign every message to one of the bins\n",
    "for case in cases:\n",
    "    result_df = pd.DataFrame()\n",
    "    message_df = message_dict[case]\n",
    "    message_df['nb_subscribers'] = 0\n",
    "    bin_df = bin_dict[case]\n",
    "    for index, row in bin_df.iterrows():\n",
    "        # get all messages which have send timestamp between start and end\n",
    "        start = row['start']\n",
    "        end = row['end']\n",
    "        message_df.loc[(message_df['timestamp_send'] >= start) & (message_df['timestamp_send'] < end), 'nb_subscribers'] = row['bin']\n",
    "\n",
    "    message_df = message_df[message_df['nb_subscribers'] != 0]\n",
    "    message_dict[case] = message_df"
   ]
  },
  {
   "cell_type": "code",
   "execution_count": 7,
   "metadata": {},
   "outputs": [],
   "source": [
    "message_latency = pd.DataFrame()\n",
    "for case in cases:\n",
    "    df = message_dict[case]\n",
    "    df['case'] = case\n",
    "    message_latency = pd.concat([message_latency, df])\n",
    "\n",
    "message_latency.to_csv('export/' + machine + '/message_latency.csv')\n",
    "\n",
    "# write a description file for the export\n",
    "f = open('export/' + machine + '/message_latency.txt', 'w')\n",
    "f.write('This file contains for every message the observed latency.\\n')\n",
    "f.write('The first column is a index without any further meaning\\n')\n",
    "f.write('the other columns are as described below:\\n\\n')\n",
    "for col in message_latency.columns:\n",
    "    if(col == 'case'):\n",
    "        f.write(col + ': case of the measurement\\n')\n",
    "    if(col == 'latency'):\n",
    "        f.write(col + ': end to end latency for this given message in ms\\n')\n",
    "    if(col == 'nb_subscribers'):\n",
    "        f.write(col + ': the number of subscribers that consumed all messages in a shared way (i.e. only 1 receives a message)\\n')\n",
    "    if(col == 'timestamp_send'):\n",
    "        f.write(col + ': the timestamp of when the publisher sent the message\\n')\n",
    "    if(col == 'timestamp_receive'):\n",
    "        f.write(col + ': the timestamp of when the subscriber received the message\\n')\n",
    "\n",
    "f.write('\\n\\n')\n",
    "f.write('The following cases were measured:\\n')\n",
    "for case in cases:\n",
    "    f.write(case + ': ' + translation_dict[case] +'\\n')\n",
    "\n",
    "f.close()"
   ]
  },
  {
   "cell_type": "code",
   "execution_count": 8,
   "metadata": {},
   "outputs": [],
   "source": [
    "latency_per_subscribers = pd.DataFrame()\n",
    "for case in cases:\n",
    "    messages = message_dict[case]\n",
    "    df = messages.groupby('nb_subscribers').mean()\n",
    "    df = df.drop(columns=['timestamp_send', 'timestamp_receive'])\n",
    "    df['case'] = case\n",
    "    df = df.reset_index()\n",
    "    latency_per_subscribers = pd.concat([latency_per_subscribers, df])"
   ]
  },
  {
   "cell_type": "code",
   "execution_count": 9,
   "metadata": {},
   "outputs": [],
   "source": [
    "# if directory export does not exist, create it\n",
    "if not os.path.exists('export'):\n",
    "    os.makedirs('export')\n",
    "if not os.path.exists('export/' + machine):\n",
    "    os.makedirs('export/' + machine)\n",
    "latency_per_subscribers.to_csv('export/' + machine + '/latency_per_nb_subscribers.csv')\n",
    "\n",
    "# write a description file for the export\n",
    "f = open('export/' + machine + '/latency_per_nb_subscribers.txt', 'w')\n",
    "f.write('This file contains the average latency per numbers of subscribers and case.\\n')\n",
    "f.write('The first column is a index without any further meaning\\n')\n",
    "f.write('the other columns are as described below:\\n\\n')\n",
    "for col in latency_per_subscribers.columns:\n",
    "    if(col == 'case'):\n",
    "        f.write(col + ': case of the measurement\\n')\n",
    "    if(col == 'latency'):\n",
    "        f.write(col + ': mean latency of all single message latencies of this case and number of subscribers\\n')\n",
    "    if(col == 'nb_subscribers'):\n",
    "        f.write(col + ': the number of subscribers that consumed all messages in a shared way (i.e. only 1 receives a message)\\n')\n",
    "\n",
    "f.write('\\n\\n')\n",
    "f.write('The following cases were measured:\\n')\n",
    "for case in cases:\n",
    "    f.write(case + ': ' + translation_dict[case] +'\\n')\n",
    "\n",
    "f.close()"
   ]
  },
  {
   "cell_type": "code",
   "execution_count": 10,
   "metadata": {},
   "outputs": [
    {
     "data": {
      "image/png": "[encoded data removed]",
      "text/plain": [
       "<Figure size 432x288 with 1 Axes>"
      ]
     },
     "metadata": {
      "needs_background": "light"
     },
     "output_type": "display_data"
    }
   ],
   "source": [
    "df = latency_per_subscribers.rename(columns={'latency': 'Latency (ms)', 'nb_subscribers': 'number of subscribers'})\n",
    "sns.barplot(data=df, x='number of subscribers', y='Latency (ms)', hue='case')\n",
    "plt.title('Average latency by number of subscribers / s\\n['+ machine + ']')\n",
    "plt.xlabel('number of subscribers')\n",
    "plt.ylabel('Latency (ms)')\n",
    "\n",
    "plt.savefig('export/' + machine + '/latency_per_nb_subscribers.png', dpi=300, bbox_inches='tight', transparent = False)"
   ]
  }
 ],
 "metadata": {
  "kernelspec": {
   "display_name": "Python 3",
   "language": "python",
   "name": "python3"
  },
  "language_info": {
   "codemirror_mode": {
    "name": "ipython",
    "version": 3
   },
   "file_extension": ".py",
   "mimetype": "text/x-python",
   "name": "python",
   "nbconvert_exporter": "python",
   "pygments_lexer": "ipython3",
   "version": "3.6.9"
  },
  "orig_nbformat": 4
 },
 "nbformat": 4,
 "nbformat_minor": 2
}
